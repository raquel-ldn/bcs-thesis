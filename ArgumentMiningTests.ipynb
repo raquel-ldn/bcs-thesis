{
  "nbformat": 4,
  "nbformat_minor": 0,
  "metadata": {
    "colab": {
      "name": "ArgumentMiningTests.ipynb",
      "provenance": [],
      "collapsed_sections": [],
      "authorship_tag": "ABX9TyMVU4p8vSlyTXWicNLjFJnK",
      "include_colab_link": true
    },
    "kernelspec": {
      "display_name": "Python 3",
      "name": "python3"
    },
    "widgets": {
      "application/vnd.jupyter.widget-state+json": {
        "df02396cc17a4925ade98a51978ab8ef": {
          "model_module": "@jupyter-widgets/controls",
          "model_name": "HBoxModel",
          "state": {
            "_view_name": "HBoxView",
            "_dom_classes": [],
            "_model_name": "HBoxModel",
            "_view_module": "@jupyter-widgets/controls",
            "_model_module_version": "1.5.0",
            "_view_count": null,
            "_view_module_version": "1.5.0",
            "box_style": "",
            "layout": "IPY_MODEL_4115600932df4d14acb586a847723924",
            "_model_module": "@jupyter-widgets/controls",
            "children": [
              "IPY_MODEL_c0f774af8d034aab87e972d0de3ee94b",
              "IPY_MODEL_cfa36c79ebce487f8c72e45e09e5dae5"
            ]
          }
        },
        "4115600932df4d14acb586a847723924": {
          "model_module": "@jupyter-widgets/base",
          "model_name": "LayoutModel",
          "state": {
            "_view_name": "LayoutView",
            "grid_template_rows": null,
            "right": null,
            "justify_content": null,
            "_view_module": "@jupyter-widgets/base",
            "overflow": null,
            "_model_module_version": "1.2.0",
            "_view_count": null,
            "flex_flow": null,
            "width": null,
            "min_width": null,
            "border": null,
            "align_items": null,
            "bottom": null,
            "_model_module": "@jupyter-widgets/base",
            "top": null,
            "grid_column": null,
            "overflow_y": null,
            "overflow_x": null,
            "grid_auto_flow": null,
            "grid_area": null,
            "grid_template_columns": null,
            "flex": null,
            "_model_name": "LayoutModel",
            "justify_items": null,
            "grid_row": null,
            "max_height": null,
            "align_content": null,
            "visibility": null,
            "align_self": null,
            "height": null,
            "min_height": null,
            "padding": null,
            "grid_auto_rows": null,
            "grid_gap": null,
            "max_width": null,
            "order": null,
            "_view_module_version": "1.2.0",
            "grid_template_areas": null,
            "object_position": null,
            "object_fit": null,
            "grid_auto_columns": null,
            "margin": null,
            "display": null,
            "left": null
          }
        },
        "c0f774af8d034aab87e972d0de3ee94b": {
          "model_module": "@jupyter-widgets/controls",
          "model_name": "FloatProgressModel",
          "state": {
            "_view_name": "ProgressView",
            "style": "IPY_MODEL_e9b9061d4d7b481c9f797405881d9969",
            "_dom_classes": [],
            "description": "Batches: 100%",
            "_model_name": "FloatProgressModel",
            "bar_style": "success",
            "max": 82,
            "_view_module": "@jupyter-widgets/controls",
            "_model_module_version": "1.5.0",
            "value": 82,
            "_view_count": null,
            "_view_module_version": "1.5.0",
            "orientation": "horizontal",
            "min": 0,
            "description_tooltip": null,
            "_model_module": "@jupyter-widgets/controls",
            "layout": "IPY_MODEL_094c4aed315e4091b0bf5dfb5a4aa0b4"
          }
        },
        "cfa36c79ebce487f8c72e45e09e5dae5": {
          "model_module": "@jupyter-widgets/controls",
          "model_name": "HTMLModel",
          "state": {
            "_view_name": "HTMLView",
            "style": "IPY_MODEL_32a761b92c45491fa7bfe698f9b3a6b5",
            "_dom_classes": [],
            "description": "",
            "_model_name": "HTMLModel",
            "placeholder": "​",
            "_view_module": "@jupyter-widgets/controls",
            "_model_module_version": "1.5.0",
            "value": " 82/82 [01:29&lt;00:00,  1.09s/it]",
            "_view_count": null,
            "_view_module_version": "1.5.0",
            "description_tooltip": null,
            "_model_module": "@jupyter-widgets/controls",
            "layout": "IPY_MODEL_ec42406df81e4197855c04b3f116d19b"
          }
        },
        "e9b9061d4d7b481c9f797405881d9969": {
          "model_module": "@jupyter-widgets/controls",
          "model_name": "ProgressStyleModel",
          "state": {
            "_view_name": "StyleView",
            "_model_name": "ProgressStyleModel",
            "description_width": "initial",
            "_view_module": "@jupyter-widgets/base",
            "_model_module_version": "1.5.0",
            "_view_count": null,
            "_view_module_version": "1.2.0",
            "bar_color": null,
            "_model_module": "@jupyter-widgets/controls"
          }
        },
        "094c4aed315e4091b0bf5dfb5a4aa0b4": {
          "model_module": "@jupyter-widgets/base",
          "model_name": "LayoutModel",
          "state": {
            "_view_name": "LayoutView",
            "grid_template_rows": null,
            "right": null,
            "justify_content": null,
            "_view_module": "@jupyter-widgets/base",
            "overflow": null,
            "_model_module_version": "1.2.0",
            "_view_count": null,
            "flex_flow": null,
            "width": null,
            "min_width": null,
            "border": null,
            "align_items": null,
            "bottom": null,
            "_model_module": "@jupyter-widgets/base",
            "top": null,
            "grid_column": null,
            "overflow_y": null,
            "overflow_x": null,
            "grid_auto_flow": null,
            "grid_area": null,
            "grid_template_columns": null,
            "flex": null,
            "_model_name": "LayoutModel",
            "justify_items": null,
            "grid_row": null,
            "max_height": null,
            "align_content": null,
            "visibility": null,
            "align_self": null,
            "height": null,
            "min_height": null,
            "padding": null,
            "grid_auto_rows": null,
            "grid_gap": null,
            "max_width": null,
            "order": null,
            "_view_module_version": "1.2.0",
            "grid_template_areas": null,
            "object_position": null,
            "object_fit": null,
            "grid_auto_columns": null,
            "margin": null,
            "display": null,
            "left": null
          }
        },
        "32a761b92c45491fa7bfe698f9b3a6b5": {
          "model_module": "@jupyter-widgets/controls",
          "model_name": "DescriptionStyleModel",
          "state": {
            "_view_name": "StyleView",
            "_model_name": "DescriptionStyleModel",
            "description_width": "",
            "_view_module": "@jupyter-widgets/base",
            "_model_module_version": "1.5.0",
            "_view_count": null,
            "_view_module_version": "1.2.0",
            "_model_module": "@jupyter-widgets/controls"
          }
        },
        "ec42406df81e4197855c04b3f116d19b": {
          "model_module": "@jupyter-widgets/base",
          "model_name": "LayoutModel",
          "state": {
            "_view_name": "LayoutView",
            "grid_template_rows": null,
            "right": null,
            "justify_content": null,
            "_view_module": "@jupyter-widgets/base",
            "overflow": null,
            "_model_module_version": "1.2.0",
            "_view_count": null,
            "flex_flow": null,
            "width": null,
            "min_width": null,
            "border": null,
            "align_items": null,
            "bottom": null,
            "_model_module": "@jupyter-widgets/base",
            "top": null,
            "grid_column": null,
            "overflow_y": null,
            "overflow_x": null,
            "grid_auto_flow": null,
            "grid_area": null,
            "grid_template_columns": null,
            "flex": null,
            "_model_name": "LayoutModel",
            "justify_items": null,
            "grid_row": null,
            "max_height": null,
            "align_content": null,
            "visibility": null,
            "align_self": null,
            "height": null,
            "min_height": null,
            "padding": null,
            "grid_auto_rows": null,
            "grid_gap": null,
            "max_width": null,
            "order": null,
            "_view_module_version": "1.2.0",
            "grid_template_areas": null,
            "object_position": null,
            "object_fit": null,
            "grid_auto_columns": null,
            "margin": null,
            "display": null,
            "left": null
          }
        }
      }
    }
  },
  "cells": [
    {
      "cell_type": "markdown",
      "metadata": {
        "id": "view-in-github",
        "colab_type": "text"
      },
      "source": [
        "<a href=\"https://colab.research.google.com/github/raquel-ldn/bcs-thesis/blob/main/ArgumentMiningTests.ipynb\" target=\"_parent\"><img src=\"https://colab.research.google.com/assets/colab-badge.svg\" alt=\"Open In Colab\"/></a>"
      ]
    },
    {
      "cell_type": "markdown",
      "metadata": {
        "id": "i5BJcmiAM-Bn"
      },
      "source": [
        "Formatting"
      ]
    },
    {
      "cell_type": "code",
      "metadata": {
        "colab": {
          "base_uri": "https://localhost:8080/",
          "height": 17
        },
        "id": "3MNt8dibM9F9",
        "outputId": "72df8efb-7102-4067-eb1a-5b4da8ffdba6"
      },
      "source": [
        "from IPython.display import HTML, display\n",
        "\n",
        "def set_css():\n",
        "  display(HTML('''\n",
        "  <style>\n",
        "    pre {\n",
        "        white-space: pre-wrap;\n",
        "    }\n",
        "  </style>\n",
        "  '''))\n",
        "get_ipython().events.register('pre_run_cell', set_css)"
      ],
      "execution_count": 123,
      "outputs": [
        {
          "output_type": "display_data",
          "data": {
            "text/html": [
              "\n",
              "  <style>\n",
              "    pre {\n",
              "        white-space: pre-wrap;\n",
              "    }\n",
              "  </style>\n",
              "  "
            ],
            "text/plain": [
              "<IPython.core.display.HTML object>"
            ]
          },
          "metadata": {
            "tags": []
          }
        },
        {
          "output_type": "display_data",
          "data": {
            "text/html": [
              "\n",
              "  <style>\n",
              "    pre {\n",
              "        white-space: pre-wrap;\n",
              "    }\n",
              "  </style>\n",
              "  "
            ],
            "text/plain": [
              "<IPython.core.display.HTML object>"
            ]
          },
          "metadata": {
            "tags": []
          }
        },
        {
          "output_type": "display_data",
          "data": {
            "text/html": [
              "\n",
              "  <style>\n",
              "    pre {\n",
              "        white-space: pre-wrap;\n",
              "    }\n",
              "  </style>\n",
              "  "
            ],
            "text/plain": [
              "<IPython.core.display.HTML object>"
            ]
          },
          "metadata": {
            "tags": []
          }
        },
        {
          "output_type": "display_data",
          "data": {
            "text/html": [
              "\n",
              "  <style>\n",
              "    pre {\n",
              "        white-space: pre-wrap;\n",
              "    }\n",
              "  </style>\n",
              "  "
            ],
            "text/plain": [
              "<IPython.core.display.HTML object>"
            ]
          },
          "metadata": {
            "tags": []
          }
        },
        {
          "output_type": "display_data",
          "data": {
            "text/html": [
              "\n",
              "  <style>\n",
              "    pre {\n",
              "        white-space: pre-wrap;\n",
              "    }\n",
              "  </style>\n",
              "  "
            ],
            "text/plain": [
              "<IPython.core.display.HTML object>"
            ]
          },
          "metadata": {
            "tags": []
          }
        }
      ]
    },
    {
      "cell_type": "markdown",
      "metadata": {
        "id": "hyj-UIDQncGw"
      },
      "source": [
        "Install Webscrapper\n",
        "ToDo: Try different scrapers i.e. scraphero"
      ]
    },
    {
      "cell_type": "code",
      "metadata": {
        "colab": {
          "base_uri": "https://localhost:8080/",
          "height": 221
        },
        "id": "JG3qclGonT4M",
        "outputId": "afa0e29b-26d0-438b-f72d-bae01fe15727"
      },
      "source": [
        " !npm install -g npm\n",
        " !npm i -g amazon-buddy"
      ],
      "execution_count": 124,
      "outputs": [
        {
          "output_type": "display_data",
          "data": {
            "text/html": [
              "\n",
              "  <style>\n",
              "    pre {\n",
              "        white-space: pre-wrap;\n",
              "    }\n",
              "  </style>\n",
              "  "
            ],
            "text/plain": [
              "<IPython.core.display.HTML object>"
            ]
          },
          "metadata": {
            "tags": []
          }
        },
        {
          "output_type": "display_data",
          "data": {
            "text/html": [
              "\n",
              "  <style>\n",
              "    pre {\n",
              "        white-space: pre-wrap;\n",
              "    }\n",
              "  </style>\n",
              "  "
            ],
            "text/plain": [
              "<IPython.core.display.HTML object>"
            ]
          },
          "metadata": {
            "tags": []
          }
        },
        {
          "output_type": "display_data",
          "data": {
            "text/html": [
              "\n",
              "  <style>\n",
              "    pre {\n",
              "        white-space: pre-wrap;\n",
              "    }\n",
              "  </style>\n",
              "  "
            ],
            "text/plain": [
              "<IPython.core.display.HTML object>"
            ]
          },
          "metadata": {
            "tags": []
          }
        },
        {
          "output_type": "display_data",
          "data": {
            "text/html": [
              "\n",
              "  <style>\n",
              "    pre {\n",
              "        white-space: pre-wrap;\n",
              "    }\n",
              "  </style>\n",
              "  "
            ],
            "text/plain": [
              "<IPython.core.display.HTML object>"
            ]
          },
          "metadata": {
            "tags": []
          }
        },
        {
          "output_type": "display_data",
          "data": {
            "text/html": [
              "\n",
              "  <style>\n",
              "    pre {\n",
              "        white-space: pre-wrap;\n",
              "    }\n",
              "  </style>\n",
              "  "
            ],
            "text/plain": [
              "<IPython.core.display.HTML object>"
            ]
          },
          "metadata": {
            "tags": []
          }
        },
        {
          "output_type": "display_data",
          "data": {
            "text/html": [
              "\n",
              "  <style>\n",
              "    pre {\n",
              "        white-space: pre-wrap;\n",
              "    }\n",
              "  </style>\n",
              "  "
            ],
            "text/plain": [
              "<IPython.core.display.HTML object>"
            ]
          },
          "metadata": {
            "tags": []
          }
        },
        {
          "output_type": "stream",
          "text": [
            "\u001b[K\u001b[?25h/tools/node/bin/npx -> /tools/node/lib/node_modules/npm/bin/npx-cli.js\n",
            "/tools/node/bin/npm -> /tools/node/lib/node_modules/npm/bin/npm-cli.js\n",
            "\u001b[K\u001b[?25h+ npm@6.14.11\n",
            "updated 1 package in 6.734s\n",
            "\u001b[K\u001b[?25h\u001b[37;40mnpm\u001b[0m \u001b[0m\u001b[30;43mWARN\u001b[0m \u001b[0m\u001b[35mdeprecated\u001b[0m request@2.88.2: request has been deprecated, see https://github.com/request/request/issues/3142\n",
            "\u001b[0m\u001b[37;40mnpm\u001b[0m \u001b[0m\u001b[30;43mWARN\u001b[0m \u001b[0m\u001b[35mdeprecated\u001b[0m request-promise@4.2.6: request-promise has been deprecated because it extends the now deprecated request package, see https://github.com/request/request/issues/3142\n",
            "\u001b[K\u001b[?25h\u001b[37;40mnpm\u001b[0m \u001b[0m\u001b[30;43mWARN\u001b[0m \u001b[0m\u001b[35mdeprecated\u001b[0m cheerio-select-tmp@0.1.1: Use cheerio-select instead\n",
            "\u001b[K\u001b[?25h\u001b[37;40mnpm\u001b[0m \u001b[0m\u001b[30;43mWARN\u001b[0m \u001b[0m\u001b[35mdeprecated\u001b[0m har-validator@5.1.5: this library is no longer supported\n",
            "\u001b[K\u001b[?25h/tools/node/bin/amazon-buddy -> /tools/node/lib/node_modules/amazon-buddy/bin/cli.js\n",
            "+ amazon-buddy@2.2.26\n",
            "updated 1 package in 3.3s\n"
          ],
          "name": "stdout"
        }
      ]
    },
    {
      "cell_type": "markdown",
      "metadata": {
        "id": "TyYXz_cbn3ak"
      },
      "source": [
        "Install NLP Python libs\n",
        "\n",
        "\n",
        "*   `sentence-transformers` for BERT transformations\n",
        "*   `umap-learn` for dimension reduction algorithm \n",
        "*   `hdbscan` for clustering and creation of areas with high denisty hopefully our topics\n",
        "*   `gensim` for topic modelling without BERT\n",
        "*   `spacy` for data cleaning, stop words, lemanisation etc for data \n",
        "*   `nltk` lemanisation\n",
        "\n",
        "\n",
        "\n",
        "ToDO: try scikit-learn for umap\n",
        "\n"
      ]
    },
    {
      "cell_type": "code",
      "metadata": {
        "colab": {
          "base_uri": "https://localhost:8080/",
          "height": 1020
        },
        "id": "aF81l0jNnbtn",
        "outputId": "dd833978-1159-465c-878a-45a78422207b"
      },
      "source": [
        "!pip install sentence-transformers\n",
        "!pip install umap-learn\n",
        "!pip install hdbscan\n",
        "!pip install --upgrade gensim\n",
        "#!pip install -U spacy\n",
        "!pip install nltk"
      ],
      "execution_count": 125,
      "outputs": [
        {
          "output_type": "display_data",
          "data": {
            "text/html": [
              "\n",
              "  <style>\n",
              "    pre {\n",
              "        white-space: pre-wrap;\n",
              "    }\n",
              "  </style>\n",
              "  "
            ],
            "text/plain": [
              "<IPython.core.display.HTML object>"
            ]
          },
          "metadata": {
            "tags": []
          }
        },
        {
          "output_type": "display_data",
          "data": {
            "text/html": [
              "\n",
              "  <style>\n",
              "    pre {\n",
              "        white-space: pre-wrap;\n",
              "    }\n",
              "  </style>\n",
              "  "
            ],
            "text/plain": [
              "<IPython.core.display.HTML object>"
            ]
          },
          "metadata": {
            "tags": []
          }
        },
        {
          "output_type": "display_data",
          "data": {
            "text/html": [
              "\n",
              "  <style>\n",
              "    pre {\n",
              "        white-space: pre-wrap;\n",
              "    }\n",
              "  </style>\n",
              "  "
            ],
            "text/plain": [
              "<IPython.core.display.HTML object>"
            ]
          },
          "metadata": {
            "tags": []
          }
        },
        {
          "output_type": "display_data",
          "data": {
            "text/html": [
              "\n",
              "  <style>\n",
              "    pre {\n",
              "        white-space: pre-wrap;\n",
              "    }\n",
              "  </style>\n",
              "  "
            ],
            "text/plain": [
              "<IPython.core.display.HTML object>"
            ]
          },
          "metadata": {
            "tags": []
          }
        },
        {
          "output_type": "display_data",
          "data": {
            "text/html": [
              "\n",
              "  <style>\n",
              "    pre {\n",
              "        white-space: pre-wrap;\n",
              "    }\n",
              "  </style>\n",
              "  "
            ],
            "text/plain": [
              "<IPython.core.display.HTML object>"
            ]
          },
          "metadata": {
            "tags": []
          }
        },
        {
          "output_type": "display_data",
          "data": {
            "text/html": [
              "\n",
              "  <style>\n",
              "    pre {\n",
              "        white-space: pre-wrap;\n",
              "    }\n",
              "  </style>\n",
              "  "
            ],
            "text/plain": [
              "<IPython.core.display.HTML object>"
            ]
          },
          "metadata": {
            "tags": []
          }
        },
        {
          "output_type": "stream",
          "text": [
            "Requirement already satisfied: sentence-transformers in /usr/local/lib/python3.6/dist-packages (0.4.1.2)\n",
            "Requirement already satisfied: nltk in /usr/local/lib/python3.6/dist-packages (from sentence-transformers) (3.2.5)\n",
            "Requirement already satisfied: tqdm in /usr/local/lib/python3.6/dist-packages (from sentence-transformers) (4.41.1)\n",
            "Requirement already satisfied: scipy in /usr/local/lib/python3.6/dist-packages (from sentence-transformers) (1.4.1)\n",
            "Requirement already satisfied: transformers<5.0.0,>=3.1.0 in /usr/local/lib/python3.6/dist-packages (from sentence-transformers) (4.2.1)\n",
            "Requirement already satisfied: numpy in /usr/local/lib/python3.6/dist-packages (from sentence-transformers) (1.19.5)\n",
            "Requirement already satisfied: scikit-learn in /usr/local/lib/python3.6/dist-packages (from sentence-transformers) (0.22.2.post1)\n",
            "Requirement already satisfied: torch>=1.6.0 in /usr/local/lib/python3.6/dist-packages (from sentence-transformers) (1.7.0+cu101)\n",
            "Requirement already satisfied: sentencepiece in /usr/local/lib/python3.6/dist-packages (from sentence-transformers) (0.1.95)\n",
            "Requirement already satisfied: six in /usr/local/lib/python3.6/dist-packages (from nltk->sentence-transformers) (1.15.0)\n",
            "Requirement already satisfied: importlib-metadata; python_version < \"3.8\" in /usr/local/lib/python3.6/dist-packages (from transformers<5.0.0,>=3.1.0->sentence-transformers) (3.3.0)\n",
            "Requirement already satisfied: dataclasses; python_version < \"3.7\" in /usr/local/lib/python3.6/dist-packages (from transformers<5.0.0,>=3.1.0->sentence-transformers) (0.8)\n",
            "Requirement already satisfied: requests in /usr/local/lib/python3.6/dist-packages (from transformers<5.0.0,>=3.1.0->sentence-transformers) (2.23.0)\n",
            "Requirement already satisfied: packaging in /usr/local/lib/python3.6/dist-packages (from transformers<5.0.0,>=3.1.0->sentence-transformers) (20.8)\n",
            "Requirement already satisfied: sacremoses in /usr/local/lib/python3.6/dist-packages (from transformers<5.0.0,>=3.1.0->sentence-transformers) (0.0.43)\n",
            "Requirement already satisfied: filelock in /usr/local/lib/python3.6/dist-packages (from transformers<5.0.0,>=3.1.0->sentence-transformers) (3.0.12)\n",
            "Requirement already satisfied: regex!=2019.12.17 in /usr/local/lib/python3.6/dist-packages (from transformers<5.0.0,>=3.1.0->sentence-transformers) (2019.12.20)\n",
            "Requirement already satisfied: tokenizers==0.9.4 in /usr/local/lib/python3.6/dist-packages (from transformers<5.0.0,>=3.1.0->sentence-transformers) (0.9.4)\n",
            "Requirement already satisfied: joblib>=0.11 in /usr/local/lib/python3.6/dist-packages (from scikit-learn->sentence-transformers) (1.0.0)\n",
            "Requirement already satisfied: typing-extensions in /usr/local/lib/python3.6/dist-packages (from torch>=1.6.0->sentence-transformers) (3.7.4.3)\n",
            "Requirement already satisfied: future in /usr/local/lib/python3.6/dist-packages (from torch>=1.6.0->sentence-transformers) (0.16.0)\n",
            "Requirement already satisfied: zipp>=0.5 in /usr/local/lib/python3.6/dist-packages (from importlib-metadata; python_version < \"3.8\"->transformers<5.0.0,>=3.1.0->sentence-transformers) (3.4.0)\n",
            "Requirement already satisfied: urllib3!=1.25.0,!=1.25.1,<1.26,>=1.21.1 in /usr/local/lib/python3.6/dist-packages (from requests->transformers<5.0.0,>=3.1.0->sentence-transformers) (1.24.3)\n",
            "Requirement already satisfied: chardet<4,>=3.0.2 in /usr/local/lib/python3.6/dist-packages (from requests->transformers<5.0.0,>=3.1.0->sentence-transformers) (3.0.4)\n",
            "Requirement already satisfied: certifi>=2017.4.17 in /usr/local/lib/python3.6/dist-packages (from requests->transformers<5.0.0,>=3.1.0->sentence-transformers) (2020.12.5)\n",
            "Requirement already satisfied: idna<3,>=2.5 in /usr/local/lib/python3.6/dist-packages (from requests->transformers<5.0.0,>=3.1.0->sentence-transformers) (2.10)\n",
            "Requirement already satisfied: pyparsing>=2.0.2 in /usr/local/lib/python3.6/dist-packages (from packaging->transformers<5.0.0,>=3.1.0->sentence-transformers) (2.4.7)\n",
            "Requirement already satisfied: click in /usr/local/lib/python3.6/dist-packages (from sacremoses->transformers<5.0.0,>=3.1.0->sentence-transformers) (7.1.2)\n",
            "Requirement already satisfied: umap-learn in /usr/local/lib/python3.6/dist-packages (0.4.6)\n",
            "Requirement already satisfied: numba!=0.47,>=0.46 in /usr/local/lib/python3.6/dist-packages (from umap-learn) (0.48.0)\n",
            "Requirement already satisfied: scipy>=1.3.1 in /usr/local/lib/python3.6/dist-packages (from umap-learn) (1.4.1)\n",
            "Requirement already satisfied: scikit-learn>=0.20 in /usr/local/lib/python3.6/dist-packages (from umap-learn) (0.22.2.post1)\n",
            "Requirement already satisfied: numpy>=1.17 in /usr/local/lib/python3.6/dist-packages (from umap-learn) (1.19.5)\n",
            "Requirement already satisfied: setuptools in /usr/local/lib/python3.6/dist-packages (from numba!=0.47,>=0.46->umap-learn) (51.1.1)\n",
            "Requirement already satisfied: llvmlite<0.32.0,>=0.31.0dev0 in /usr/local/lib/python3.6/dist-packages (from numba!=0.47,>=0.46->umap-learn) (0.31.0)\n",
            "Requirement already satisfied: joblib>=0.11 in /usr/local/lib/python3.6/dist-packages (from scikit-learn>=0.20->umap-learn) (1.0.0)\n",
            "Requirement already satisfied: hdbscan in /usr/local/lib/python3.6/dist-packages (0.8.26)\n",
            "Requirement already satisfied: scipy>=0.9 in /usr/local/lib/python3.6/dist-packages (from hdbscan) (1.4.1)\n",
            "Requirement already satisfied: numpy>=1.16.0 in /usr/local/lib/python3.6/dist-packages (from hdbscan) (1.19.5)\n",
            "Requirement already satisfied: scikit-learn>=0.17 in /usr/local/lib/python3.6/dist-packages (from hdbscan) (0.22.2.post1)\n",
            "Requirement already satisfied: cython>=0.27 in /usr/local/lib/python3.6/dist-packages (from hdbscan) (0.29.21)\n",
            "Requirement already satisfied: six in /usr/local/lib/python3.6/dist-packages (from hdbscan) (1.15.0)\n",
            "Requirement already satisfied: joblib in /usr/local/lib/python3.6/dist-packages (from hdbscan) (1.0.0)\n",
            "Requirement already up-to-date: gensim in /usr/local/lib/python3.6/dist-packages (3.8.3)\n",
            "Requirement already satisfied, skipping upgrade: six>=1.5.0 in /usr/local/lib/python3.6/dist-packages (from gensim) (1.15.0)\n",
            "Requirement already satisfied, skipping upgrade: numpy>=1.11.3 in /usr/local/lib/python3.6/dist-packages (from gensim) (1.19.5)\n",
            "Requirement already satisfied, skipping upgrade: scipy>=0.18.1 in /usr/local/lib/python3.6/dist-packages (from gensim) (1.4.1)\n",
            "Requirement already satisfied, skipping upgrade: smart-open>=1.8.1 in /usr/local/lib/python3.6/dist-packages (from gensim) (4.1.0)\n",
            "Requirement already satisfied: nltk in /usr/local/lib/python3.6/dist-packages (3.2.5)\n",
            "Requirement already satisfied: six in /usr/local/lib/python3.6/dist-packages (from nltk) (1.15.0)\n"
          ],
          "name": "stdout"
        }
      ]
    },
    {
      "cell_type": "markdown",
      "metadata": {
        "id": "BvP_5GWhKtiC"
      },
      "source": [
        "Downloading Claim and Premise Indicators If data already on disk force overwrite\n",
        "<br><b>WIP adjust list to review data\n"
      ]
    },
    {
      "cell_type": "code",
      "metadata": {
        "colab": {
          "base_uri": "https://localhost:8080/",
          "height": 391
        },
        "id": "dip8WfheKswv",
        "outputId": "be35d9f8-470d-4d3d-e5c8-d604e89f60d1"
      },
      "source": [
        "!wget https://raw.githubusercontent.com/raquel-ldn/argument_BERT/development/preprocessing/claim_indicator.txt -O claim_indicator.txt\n",
        "!wget https://raw.githubusercontent.com/raquel-ldn/argument_BERT/master/preprocessing/premise_indicator.txt -O premise_indicator.txt"
      ],
      "execution_count": 126,
      "outputs": [
        {
          "output_type": "display_data",
          "data": {
            "text/html": [
              "\n",
              "  <style>\n",
              "    pre {\n",
              "        white-space: pre-wrap;\n",
              "    }\n",
              "  </style>\n",
              "  "
            ],
            "text/plain": [
              "<IPython.core.display.HTML object>"
            ]
          },
          "metadata": {
            "tags": []
          }
        },
        {
          "output_type": "display_data",
          "data": {
            "text/html": [
              "\n",
              "  <style>\n",
              "    pre {\n",
              "        white-space: pre-wrap;\n",
              "    }\n",
              "  </style>\n",
              "  "
            ],
            "text/plain": [
              "<IPython.core.display.HTML object>"
            ]
          },
          "metadata": {
            "tags": []
          }
        },
        {
          "output_type": "display_data",
          "data": {
            "text/html": [
              "\n",
              "  <style>\n",
              "    pre {\n",
              "        white-space: pre-wrap;\n",
              "    }\n",
              "  </style>\n",
              "  "
            ],
            "text/plain": [
              "<IPython.core.display.HTML object>"
            ]
          },
          "metadata": {
            "tags": []
          }
        },
        {
          "output_type": "display_data",
          "data": {
            "text/html": [
              "\n",
              "  <style>\n",
              "    pre {\n",
              "        white-space: pre-wrap;\n",
              "    }\n",
              "  </style>\n",
              "  "
            ],
            "text/plain": [
              "<IPython.core.display.HTML object>"
            ]
          },
          "metadata": {
            "tags": []
          }
        },
        {
          "output_type": "display_data",
          "data": {
            "text/html": [
              "\n",
              "  <style>\n",
              "    pre {\n",
              "        white-space: pre-wrap;\n",
              "    }\n",
              "  </style>\n",
              "  "
            ],
            "text/plain": [
              "<IPython.core.display.HTML object>"
            ]
          },
          "metadata": {
            "tags": []
          }
        },
        {
          "output_type": "display_data",
          "data": {
            "text/html": [
              "\n",
              "  <style>\n",
              "    pre {\n",
              "        white-space: pre-wrap;\n",
              "    }\n",
              "  </style>\n",
              "  "
            ],
            "text/plain": [
              "<IPython.core.display.HTML object>"
            ]
          },
          "metadata": {
            "tags": []
          }
        },
        {
          "output_type": "stream",
          "text": [
            "--2021-01-14 20:23:36--  https://raw.githubusercontent.com/raquel-ldn/argument_BERT/development/preprocessing/claim_indicator.txt\n",
            "Resolving raw.githubusercontent.com (raw.githubusercontent.com)... 151.101.0.133, 151.101.64.133, 151.101.128.133, ...\n",
            "Connecting to raw.githubusercontent.com (raw.githubusercontent.com)|151.101.0.133|:443... connected.\n",
            "HTTP request sent, awaiting response... 200 OK\n",
            "Length: 540 [text/plain]\n",
            "Saving to: ‘claim_indicator.txt’\n",
            "\n",
            "claim_indicator.txt 100%[===================>]     540  --.-KB/s    in 0s      \n",
            "\n",
            "2021-01-14 20:23:36 (31.0 MB/s) - ‘claim_indicator.txt’ saved [540/540]\n",
            "\n",
            "--2021-01-14 20:23:36--  https://raw.githubusercontent.com/raquel-ldn/argument_BERT/master/preprocessing/premise_indicator.txt\n",
            "Resolving raw.githubusercontent.com (raw.githubusercontent.com)... 151.101.0.133, 151.101.64.133, 151.101.128.133, ...\n",
            "Connecting to raw.githubusercontent.com (raw.githubusercontent.com)|151.101.0.133|:443... connected.\n",
            "HTTP request sent, awaiting response... 200 OK\n",
            "Length: 458 [text/plain]\n",
            "Saving to: ‘premise_indicator.txt’\n",
            "\n",
            "premise_indicator.t 100%[===================>]     458  --.-KB/s    in 0s      \n",
            "\n",
            "2021-01-14 20:23:36 (23.0 MB/s) - ‘premise_indicator.txt’ saved [458/458]\n",
            "\n"
          ],
          "name": "stdout"
        }
      ]
    },
    {
      "cell_type": "markdown",
      "metadata": {
        "id": "bTUthau9pzfd"
      },
      "source": [
        "Execute  scraper for ASIN `B0141712VI` and return 2000 reviews. write the output of the command into a file called `console.log`\n",
        "\n",
        "amazon-buddy creates a csv file with the name of the ASIN and a random number the file name is written into `console.log`\n",
        "\n",
        "Read the filename from `console.log` and extract the ASIN. Use the ASIN to change to final name `B0141712VI.csv` for later use.\n",
        "\n"
      ]
    },
    {
      "cell_type": "code",
      "metadata": {
        "colab": {
          "base_uri": "https://localhost:8080/",
          "height": 986
        },
        "id": "srdTUt_2nbwQ",
        "outputId": "346a6049-9f28-4848-f07d-e13fbe724fa7"
      },
      "source": [
        "%env ASIN=B07JVGB9SH\n",
        "!amazon-buddy reviews $ASIN --country 'GB' -n 2000 > console.log\n",
        "!cat console.log\n",
        "%mv `cat console.log | tr ' ' '\\n' | tail -n1`.csv  $ASIN'.csv'\n",
        "!wc -l $ASIN'.csv'"
      ],
      "execution_count": 127,
      "outputs": [
        {
          "output_type": "display_data",
          "data": {
            "text/html": [
              "\n",
              "  <style>\n",
              "    pre {\n",
              "        white-space: pre-wrap;\n",
              "    }\n",
              "  </style>\n",
              "  "
            ],
            "text/plain": [
              "<IPython.core.display.HTML object>"
            ]
          },
          "metadata": {
            "tags": []
          }
        },
        {
          "output_type": "display_data",
          "data": {
            "text/html": [
              "\n",
              "  <style>\n",
              "    pre {\n",
              "        white-space: pre-wrap;\n",
              "    }\n",
              "  </style>\n",
              "  "
            ],
            "text/plain": [
              "<IPython.core.display.HTML object>"
            ]
          },
          "metadata": {
            "tags": []
          }
        },
        {
          "output_type": "display_data",
          "data": {
            "text/html": [
              "\n",
              "  <style>\n",
              "    pre {\n",
              "        white-space: pre-wrap;\n",
              "    }\n",
              "  </style>\n",
              "  "
            ],
            "text/plain": [
              "<IPython.core.display.HTML object>"
            ]
          },
          "metadata": {
            "tags": []
          }
        },
        {
          "output_type": "display_data",
          "data": {
            "text/html": [
              "\n",
              "  <style>\n",
              "    pre {\n",
              "        white-space: pre-wrap;\n",
              "    }\n",
              "  </style>\n",
              "  "
            ],
            "text/plain": [
              "<IPython.core.display.HTML object>"
            ]
          },
          "metadata": {
            "tags": []
          }
        },
        {
          "output_type": "display_data",
          "data": {
            "text/html": [
              "\n",
              "  <style>\n",
              "    pre {\n",
              "        white-space: pre-wrap;\n",
              "    }\n",
              "  </style>\n",
              "  "
            ],
            "text/plain": [
              "<IPython.core.display.HTML object>"
            ]
          },
          "metadata": {
            "tags": []
          }
        },
        {
          "output_type": "display_data",
          "data": {
            "text/html": [
              "\n",
              "  <style>\n",
              "    pre {\n",
              "        white-space: pre-wrap;\n",
              "    }\n",
              "  </style>\n",
              "  "
            ],
            "text/plain": [
              "<IPython.core.display.HTML object>"
            ]
          },
          "metadata": {
            "tags": []
          }
        },
        {
          "output_type": "stream",
          "text": [
            "env: ASIN=B07JVGB9SH\n",
            "\u001b[?25l⠋ Amazon Scraper Started\u001b[2K\u001b[1G⠙ Amazon Scraper Started\u001b[2K\u001b[1G⠹ Amazon Scraper Started\u001b[2K\u001b[1G⠸ Amazon Scraper Started\u001b[2K\u001b[1G⠼ Amazon Scraper Started\u001b[2K\u001b[1G⠴ Amazon Scraper Started\u001b[2K\u001b[1G⠦ Amazon Scraper Started\u001b[2K\u001b[1G⠧ Amazon Scraper Started\u001b[2K\u001b[1G⠇ Amazon Scraper Started\u001b[2K\u001b[1G⠏ Amazon Scraper Started\u001b[2K\u001b[1G⠋ Amazon Scraper Started\u001b[2K\u001b[1G⠙ Amazon Scraper Started\u001b[2K\u001b[1G⠹ Amazon Scraper Started\u001b[2K\u001b[1G⠸ Amazon Scraper Started\u001b[2K\u001b[1G⠼ Amazon Scraper Started\u001b[2K\u001b[1G⠴ Amazon Scraper Started\u001b[2K\u001b[1G⠦ Amazon Scraper Started\u001b[2K\u001b[1G⠧ Amazon Scraper Started\u001b[2K\u001b[1G⠇ Amazon Scraper Started\u001b[2K\u001b[1G⠏ Amazon Scraper Started\u001b[2K\u001b[1G⠋ Amazon Scraper Started\u001b[2K\u001b[1G⠙ Amazon Scraper Started\u001b[2K\u001b[1G⠹ Amazon Scraper Started\u001b[2K\u001b[1G⠸ Amazon Scraper Started\u001b[2K\u001b[1G⠼ Amazon Scraper Started\u001b[2K\u001b[1G⠴ Amazon Scraper Started\u001b[2K\u001b[1G⠦ Amazon Scraper Started\u001b[2K\u001b[1G⠧ Amazon Scraper Started\u001b[2K\u001b[1G⠇ Amazon Scraper Started\u001b[2K\u001b[1G⠏ Amazon Scraper Started\u001b[2K\u001b[1G⠋ Amazon Scraper Started\u001b[2K\u001b[1G⠙ Amazon Scraper Started\u001b[2K\u001b[1G⠹ Amazon Scraper Started\u001b[2K\u001b[1G⠸ Amazon Scraper Started\u001b[2K\u001b[1G⠼ Amazon Scraper Started\u001b[2K\u001b[1G⠴ Amazon Scraper Started\u001b[2K\u001b[1G⠦ Amazon Scraper Started\u001b[2K\u001b[1G⠧ Amazon Scraper Started\u001b[2K\u001b[1G⠇ Amazon Scraper Started\u001b[2K\u001b[1G⠏ Amazon Scraper Started\u001b[2K\u001b[1G⠋ Amazon Scraper Started\u001b[2K\u001b[1G⠙ Amazon Scraper Started\u001b[2K\u001b[1G⠹ Amazon Scraper Started\u001b[2K\u001b[1G⠸ Amazon Scraper Started\u001b[2K\u001b[1G⠼ Amazon Scraper Started\u001b[2K\u001b[1G⠴ Amazon Scraper Started\u001b[2K\u001b[1G⠦ Amazon Scraper Started\u001b[2K\u001b[1G⠧ Amazon Scraper Started\u001b[2K\u001b[1G⠇ Amazon Scraper Started\u001b[2K\u001b[1G⠏ Amazon Scraper Started\u001b[2K\u001b[1G⠋ Amazon Scraper Started\u001b[2K\u001b[1G⠙ Amazon Scraper Started\u001b[2K\u001b[1G⠹ Amazon Scraper Started\u001b[2K\u001b[1G⠸ Amazon Scraper Started\u001b[2K\u001b[1G⠼ Amazon Scraper Started\u001b[2K\u001b[1G⠴ Amazon Scraper Started\u001b[2K\u001b[1G⠦ Amazon Scraper Started\u001b[2K\u001b[1G⠧ Amazon Scraper Started\u001b[2K\u001b[1G⠇ Amazon Scraper Started\u001b[2K\u001b[1G⠏ Amazon Scraper Started\u001b[2K\u001b[1G⠋ Amazon Scraper Started\u001b[2K\u001b[1G⠙ Amazon Scraper Started\u001b[2K\u001b[1G⠹ Amazon Scraper Started\u001b[2K\u001b[1G⠸ Amazon Scraper Started\u001b[2K\u001b[1G⠼ Amazon Scraper Started\u001b[2K\u001b[1G⠴ Amazon Scraper Started\u001b[2K\u001b[1G⠦ Amazon Scraper Started\u001b[2K\u001b[1G⠧ Amazon Scraper Started\u001b[2K\u001b[1G⠇ Amazon Scraper Started\u001b[2K\u001b[1G⠏ Amazon Scraper Started\u001b[2K\u001b[1G⠋ Amazon Scraper Started\u001b[2K\u001b[1G⠙ Amazon Scraper Started\u001b[2K\u001b[1G⠹ Amazon Scraper Started\u001b[2K\u001b[1G⠸ Amazon Scraper Started\u001b[2K\u001b[1G⠼ Amazon Scraper Started\u001b[2K\u001b[1G⠴ Amazon Scraper Started\u001b[2K\u001b[1G⠦ Amazon Scraper Started\u001b[2K\u001b[1G⠧ Amazon Scraper Started\u001b[2K\u001b[1G⠇ Amazon Scraper Started\u001b[2K\u001b[1G⠏ Amazon Scraper Started\u001b[2K\u001b[1G⠋ Amazon Scraper Started\u001b[2K\u001b[1G⠙ Amazon Scraper Started\u001b[2K\u001b[1G⠹ Amazon Scraper Started\u001b[2K\u001b[1G⠸ Amazon Scraper Started\u001b[2K\u001b[1G⠼ Amazon Scraper Started\u001b[2K\u001b[1G⠴ Amazon Scraper Started\u001b[2K\u001b[1G⠦ Amazon Scraper Started\u001b[2K\u001b[1G⠧ Amazon Scraper Started\u001b[2K\u001b[1G⠇ Amazon Scraper Started\u001b[2K\u001b[1G⠏ Amazon Scraper Started\u001b[2K\u001b[1G⠋ Amazon Scraper Started\u001b[2K\u001b[1G⠙ Amazon Scraper Started\u001b[2K\u001b[1G⠹ Amazon Scraper Started\u001b[2K\u001b[1G⠸ Amazon Scraper Started\u001b[2K\u001b[1G⠼ Amazon Scraper Started\u001b[2K\u001b[1G⠴ Amazon Scraper Started\u001b[2K\u001b[1G⠦ Amazon Scraper Started\u001b[2K\u001b[1G⠧ Amazon Scraper Started\u001b[2K\u001b[1G⠇ Amazon Scraper Started\u001b[2K\u001b[1G⠏ Amazon Scraper Started\u001b[2K\u001b[1G⠋ Amazon Scraper Started\u001b[2K\u001b[1G⠙ Amazon Scraper Started\u001b[2K\u001b[1G⠹ Amazon Scraper Started\u001b[2K\u001b[1G⠸ Amazon Scraper Started\u001b[2K\u001b[1G⠼ Amazon Scraper Started\u001b[2K\u001b[1G⠴ Amazon Scraper Started\u001b[2K\u001b[1G⠦ Amazon Scraper Started\u001b[2K\u001b[1G⠧ Amazon Scraper Started\u001b[2K\u001b[1G⠇ Amazon Scraper Started\u001b[2K\u001b[1G⠏ Amazon Scraper Started\u001b[2K\u001b[1G⠋ Amazon Scraper Started\u001b[2K\u001b[1G⠙ Amazon Scraper Started\u001b[2K\u001b[1G⠹ Amazon Scraper Started\u001b[2K\u001b[1G⠸ Amazon Scraper Started\u001b[2K\u001b[1G⠼ Amazon Scraper Started\u001b[2K\u001b[1G⠴ Amazon Scraper Started\u001b[2K\u001b[1G⠦ Amazon Scraper Started\u001b[2K\u001b[1G⠧ Amazon Scraper Started\u001b[2K\u001b[1G⠇ Amazon Scraper Started\u001b[2K\u001b[1G⠏ Amazon Scraper Started\u001b[2K\u001b[1G⠋ Amazon Scraper Started\u001b[2K\u001b[1G⠙ Amazon Scraper Started\u001b[2K\u001b[1G⠹ Amazon Scraper Started\u001b[2K\u001b[1G⠸ Amazon Scraper Started\u001b[2K\u001b[1G⠼ Amazon Scraper Started\u001b[2K\u001b[1G⠴ Amazon Scraper Started\u001b[2K\u001b[1G⠦ Amazon Scraper Started\u001b[2K\u001b[1G⠧ Amazon Scraper Started\u001b[2K\u001b[1G⠇ Amazon Scraper Started\u001b[2K\u001b[1G⠏ Amazon Scraper Started\u001b[2K\u001b[1G⠋ Amazon Scraper Started\u001b[2K\u001b[1G⠙ Amazon Scraper Started\u001b[2K\u001b[1G⠹ Amazon Scraper Started\u001b[2K\u001b[1G⠸ Amazon Scraper Started\u001b[2K\u001b[1G⠼ Amazon Scraper Started\u001b[2K\u001b[1G⠴ Amazon Scraper Started\u001b[2K\u001b[1G⠦ Amazon Scraper Started\u001b[2K\u001b[1G⠧ Amazon Scraper Started\u001b[2K\u001b[1G⠇ Amazon Scraper Started\u001b[2K\u001b[1G⠏ Amazon Scraper Started\u001b[2K\u001b[1G⠋ Amazon Scraper Started\u001b[2K\u001b[1G⠙ Amazon Scraper Started\u001b[2K\u001b[1G⠹ Amazon Scraper Started\u001b[2K\u001b[1G⠸ Amazon Scraper Started\u001b[2K\u001b[1G⠼ Amazon Scraper Started\u001b[2K\u001b[1G⠴ Amazon Scraper Started\u001b[2K\u001b[1G⠦ Amazon Scraper Started\u001b[2K\u001b[1G⠧ Amazon Scraper Started\u001b[2K\u001b[1G⠇ Amazon Scraper Started\u001b[2K\u001b[1G⠏ Amazon Scraper Started\u001b[2K\u001b[1G⠋ Amazon Scraper Started\u001b[2K\u001b[1G⠙ Amazon Scraper Started\u001b[2K\u001b[1G⠹ Amazon Scraper Started\u001b[2K\u001b[1G⠸ Amazon Scraper Started\u001b[2K\u001b[1G⠼ Amazon Scraper Started\u001b[2K\u001b[1G⠴ Amazon Scraper Started\u001b[2K\u001b[1G⠦ Amazon Scraper Started\u001b[2K\u001b[1G⠧ Amazon Scraper Started\u001b[2K\u001b[1G⠇ Amazon Scraper Started\u001b[2K\u001b[1G⠏ Amazon Scraper Started\u001b[2K\u001b[1G⠋ Amazon Scraper Started\u001b[2K\u001b[1G⠙ Amazon Scraper Started\u001b[2K\u001b[1G⠹ Amazon Scraper Started\u001b[2K\u001b[1G⠸ Amazon Scraper Started\u001b[2K\u001b[1G⠼ Amazon Scraper Started\u001b[2K\u001b[1G⠴ Amazon Scraper Started\u001b[2K\u001b[1G⠦ Amazon Scraper Started\u001b[2K\u001b[1G⠧ Amazon Scraper Started\u001b[2K\u001b[1G⠇ Amazon Scraper Started\u001b[2K\u001b[1G⠏ Amazon Scraper Started\u001b[2K\u001b[1G⠋ Amazon Scraper Started\u001b[2K\u001b[1G⠙ Amazon Scraper Started\u001b[2K\u001b[1G⠹ Amazon Scraper Started\u001b[2K\u001b[1G⠸ Amazon Scraper Started\u001b[2K\u001b[1G⠼ Amazon Scraper Started\u001b[2K\u001b[1G⠴ Amazon Scraper Started\u001b[2K\u001b[1G⠦ Amazon Scraper Started\u001b[2K\u001b[1G⠧ Amazon Scraper Started\u001b[2K\u001b[1G⠇ Amazon Scraper Started\u001b[2K\u001b[1G⠏ Amazon Scraper Started\u001b[2K\u001b[1G⠋ Amazon Scraper Started\u001b[2K\u001b[1G⠙ Amazon Scraper Started\u001b[2K\u001b[1G⠹ Amazon Scraper Started\u001b[2K\u001b[1G⠸ Amazon Scraper Started\u001b[2K\u001b[1G⠼ Amazon Scraper Started\u001b[2K\u001b[1G⠴ Amazon Scraper Started\u001b[2K\u001b[1G⠦ Amazon Scraper Started\u001b[2K\u001b[1G⠧ Amazon Scraper Started\u001b[2K\u001b[1G⠇ Amazon Scraper Started\u001b[2K\u001b[1G⠏ Amazon Scraper Started\u001b[2K\u001b[1G⠋ Amazon Scraper Started\u001b[2K\u001b[1G⠙ Amazon Scraper Started\u001b[2K\u001b[1G⠹ Amazon Scraper Started\u001b[2K\u001b[1G⠸ Amazon Scraper Started\u001b[2K\u001b[1G⠼ Amazon Scraper Started\u001b[2K\u001b[1G⠴ Amazon Scraper Started\u001b[2K\u001b[1G⠦ Amazon Scraper Started\u001b[2K\u001b[1G⠧ Amazon Scraper Started\u001b[2K\u001b[1G⠇ Amazon Scraper Started\u001b[2K\u001b[1G⠏ Amazon Scraper Started\u001b[2K\u001b[1G⠋ Amazon Scraper Started\u001b[2K\u001b[1G⠙ Amazon Scraper Started\u001b[2K\u001b[1G⠹ Amazon Scraper Started\u001b[2K\u001b[1G⠸ Amazon Scraper Started\u001b[2K\u001b[1G⠼ Amazon Scraper Started\u001b[2K\u001b[1G⠴ Amazon Scraper Started\u001b[2K\u001b[1G⠦ Amazon Scraper Started\u001b[2K\u001b[1G⠧ Amazon Scraper Started\u001b[2K\u001b[1G⠇ Amazon Scraper Started\u001b[2K\u001b[1G⠏ Amazon Scraper Started\u001b[2K\u001b[1G⠋ Amazon Scraper Started\u001b[2K\u001b[1G⠙ Amazon Scraper Started\u001b[2K\u001b[1G⠹ Amazon Scraper Started\u001b[2K\u001b[1G⠸ Amazon Scraper Started\u001b[2K\u001b[1G⠼ Amazon Scraper Started\u001b[2K\u001b[1G⠴ Amazon Scraper Started\u001b[2K\u001b[1G⠦ Amazon Scraper Started\u001b[2K\u001b[1G⠧ Amazon Scraper Started\u001b[2K\u001b[1G⠇ Amazon Scraper Started\u001b[2K\u001b[1G⠏ Amazon Scraper Started\u001b[2K\u001b[1G⠋ Amazon Scraper Started\u001b[2K\u001b[1G⠙ Amazon Scraper Started\u001b[2K\u001b[1G⠹ Amazon Scraper Started\u001b[2K\u001b[1G⠸ Amazon Scraper Started\u001b[2K\u001b[1G⠼ Amazon Scraper Started\u001b[2K\u001b[1G⠴ Amazon Scraper Started\u001b[2K\u001b[1G⠦ Amazon Scraper Started\u001b[2K\u001b[1G⠧ Amazon Scraper Started\u001b[2K\u001b[1G⠇ Amazon Scraper Started\u001b[2K\u001b[1G⠏ Amazon Scraper Started\u001b[2K\u001b[1G⠋ Amazon Scraper Started\u001b[2K\u001b[1G⠙ Amazon Scraper Started\u001b[2K\u001b[1G⠹ Amazon Scraper Started\u001b[2K\u001b[1G⠸ Amazon Scraper Started\u001b[2K\u001b[1G⠼ Amazon Scraper Started\u001b[2K\u001b[1G⠴ Amazon Scraper Started\u001b[2K\u001b[1G⠦ Amazon Scraper Started\u001b[2K\u001b[1G⠧ Amazon Scraper Started\u001b[2K\u001b[1G⠇ Amazon Scraper Started\u001b[2K\u001b[1G⠏ Amazon Scraper Started\u001b[2K\u001b[1G⠋ Amazon Scraper Started\u001b[2K\u001b[1G⠙ Amazon Scraper Started\u001b[2K\u001b[1G⠹ Amazon Scraper Started\u001b[2K\u001b[1G⠸ Amazon Scraper Started\u001b[2K\u001b[1G⠼ Amazon Scraper Started\u001b[2K\u001b[1G⠴ Amazon Scraper Started\u001b[2K\u001b[1G⠦ Amazon Scraper Started\u001b[2K\u001b[1G⠧ Amazon Scraper Started\u001b[2K\u001b[1G⠇ Amazon Scraper Started\u001b[2K\u001b[1G⠏ Amazon Scraper Started\u001b[2K\u001b[1G⠋ Amazon Scraper Started\u001b[2K\u001b[1G⠙ Amazon Scraper Started\u001b[2K\u001b[1G⠹ Amazon Scraper Started\u001b[2K\u001b[1G⠸ Amazon Scraper Started\u001b[2K\u001b[1G⠼ Amazon Scraper Started\u001b[2K\u001b[1G⠴ Amazon Scraper Started\u001b[2K\u001b[1G⠦ Amazon Scraper Started\u001b[2K\u001b[1G⠧ Amazon Scraper Started\u001b[2K\u001b[1G⠇ Amazon Scraper Started\u001b[2K\u001b[1G⠏ Amazon Scraper Started\u001b[2K\u001b[1G⠋ Amazon Scraper Started\u001b[2K\u001b[1G⠙ Amazon Scraper Started\u001b[2K\u001b[1G⠹ Amazon Scraper Started\u001b[2K\u001b[1G⠸ Amazon Scraper Started\u001b[2K\u001b[1G⠼ Amazon Scraper Started\u001b[2K\u001b[1G⠴ Amazon Scraper Started\u001b[2K\u001b[1G⠦ Amazon Scraper Started\u001b[2K\u001b[1G⠧ Amazon Scraper Started\u001b[2K\u001b[1G⠇ Amazon Scraper Started\u001b[2K\u001b[1G⠏ Amazon Scraper Started\u001b[2K\u001b[1G⠋ Amazon Scraper Started\u001b[2K\u001b[1G⠙ Amazon Scraper Started\u001b[2K\u001b[1G⠹ Amazon Scraper Started\u001b[2K\u001b[1G⠸ Amazon Scraper Started\u001b[2K\u001b[1G⠼ Amazon Scraper Started\u001b[2K\u001b[1G⠴ Amazon Scraper Started\u001b[2K\u001b[1G⠦ Amazon Scraper Started\u001b[2K\u001b[1G⠧ Amazon Scraper Started\u001b[2K\u001b[1G⠇ Amazon Scraper Started\u001b[2K\u001b[1G⠏ Amazon Scraper Started\u001b[2K\u001b[1G⠋ Amazon Scraper Started\u001b[2K\u001b[1G⠙ Amazon Scraper Started\u001b[2K\u001b[1G⠹ Amazon Scraper Started\u001b[2K\u001b[1G⠸ Amazon Scraper Started\u001b[2K\u001b[1G⠼ Amazon Scraper Started\u001b[2K\u001b[1G⠴ Amazon Scraper Started\u001b[2K\u001b[1G⠦ Amazon Scraper Started\u001b[2K\u001b[1G⠧ Amazon Scraper Started\u001b[2K\u001b[1G⠇ Amazon Scraper Started\u001b[2K\u001b[1G⠏ Amazon Scraper Started\u001b[2K\u001b[1G⠋ Amazon Scraper Started\u001b[2K\u001b[1G⠙ Amazon Scraper Started\u001b[2K\u001b[1G⠹ Amazon Scraper Started\u001b[2K\u001b[1G⠸ Amazon Scraper Started\u001b[2K\u001b[1G⠼ Amazon Scraper Started\u001b[2K\u001b[1G⠴ Amazon Scraper Started\u001b[2K\u001b[1G⠦ Amazon Scraper Started\u001b[2K\u001b[1G⠧ Amazon Scraper Started\u001b[2K\u001b[1G⠇ Amazon Scraper Started\u001b[2K\u001b[1G⠏ Amazon Scraper Started\u001b[2K\u001b[1G⠋ Amazon Scraper Started\u001b[2K\u001b[1G⠙ Amazon Scraper Started\u001b[2K\u001b[1G⠹ Amazon Scraper Started\u001b[2K\u001b[1G⠸ Amazon Scraper Started\u001b[2K\u001b[1G⠼ Amazon Scraper Started\u001b[2K\u001b[1G⠴ Amazon Scraper Started\u001b[2K\u001b[1G⠦ Amazon Scraper Started\u001b[2K\u001b[1G⠧ Amazon Scraper Started\u001b[2K\u001b[1G⠇ Amazon Scraper Started\u001b[2K\u001b[1G⠏ Amazon Scraper Started\u001b[2K\u001b[1G⠋ Amazon Scraper Started\u001b[2K\u001b[1G⠙ Amazon Scraper Started\u001b[2K\u001b[1G⠹ Amazon Scraper Started\u001b[2K\u001b[1G⠸ Amazon Scraper Started\u001b[2K\u001b[1G⠼ Amazon Scraper Started\u001b[2K\u001b[1G⠴ Amazon Scraper Started\u001b[2K\u001b[1G⠦ Amazon Scraper Started\u001b[2K\u001b[1G⠧ Amazon Scraper Started\u001b[2K\u001b[1G⠇ Amazon Scraper Started\u001b[2K\u001b[1G⠏ Amazon Scraper Started\u001b[2K\u001b[1G⠋ Amazon Scraper Started\u001b[2K\u001b[1G⠙ Amazon Scraper Started\u001b[2K\u001b[1G⠹ Amazon Scraper Started\u001b[2K\u001b[1G⠸ Amazon Scraper Started\u001b[2K\u001b[1G⠼ Amazon Scraper Started\u001b[2K\u001b[1G⠴ Amazon Scraper Started\u001b[2K\u001b[1G⠦ Amazon Scraper Started\u001b[2K\u001b[1G⠧ Amazon Scraper Started\u001b[2K\u001b[1G⠇ Amazon Scraper Started\u001b[2K\u001b[1G⠏ Amazon Scraper Started\u001b[2K\u001b[1G⠋ Amazon Scraper Started\u001b[2K\u001b[1G⠙ Amazon Scraper Started\u001b[2K\u001b[1G⠹ Amazon Scraper Started\u001b[2K\u001b[1G⠸ Amazon Scraper Started\u001b[2K\u001b[1G⠼ Amazon Scraper Started\u001b[2K\u001b[1G⠴ Amazon Scraper Started\u001b[2K\u001b[1G⠦ Amazon Scraper Started\u001b[2K\u001b[1G⠧ Amazon Scraper Started\u001b[2K\u001b[1G⠇ Amazon Scraper Started\u001b[2K\u001b[1G⠏ Amazon Scraper Started\u001b[2K\u001b[1G⠋ Amazon Scraper Started\u001b[2K\u001b[1G⠙ Amazon Scraper Started\u001b[2K\u001b[1G\u001b[?25h\u001b[?25hResult was saved to: reviews(B07JVGB9SH)_1610655817221\n",
            "1679 B07JVGB9SH.csv\n"
          ],
          "name": "stdout"
        }
      ]
    },
    {
      "cell_type": "markdown",
      "metadata": {
        "id": "RuE7JkOYq3vg"
      },
      "source": [
        "This is Work in Progress ETL\n",
        "<br><b> Main tasks:</b>\n",
        "<br> filtering sentences containing at least one claim and one premise\n",
        "<br> improving text quality through correcting and cleaning\n",
        "<br> \n",
        "\n",
        "<br><b> WIP select senteces were claim and premise are spread across a pair or multiple senteces."
      ]
    },
    {
      "cell_type": "code",
      "metadata": {
        "id": "27aeD0kkq4lf",
        "colab": {
          "base_uri": "https://localhost:8080/",
          "height": 102
        },
        "outputId": "f8e627cd-55c4-44e6-c37c-42247de23dd0"
      },
      "source": [
        "import nltk\n",
        "import re\n",
        "import csv\n",
        "import os\n",
        "import re  \n",
        "\n",
        "nltk.download('punkt')\n",
        "PREMISE_FILE = 'premise_indicator.txt'\n",
        "CLAIM_FILE = 'claim_indicator.txt'\n",
        "FILE = os.environ['ASIN'] + '.csv'\n",
        "\n",
        "def read_review_data(csv_file_name,column):\n",
        "  \"\"\"\n",
        "  function to detect to read CSV file and extract one column of review\n",
        "  :param filename column:\n",
        "  :return: list object containing review data\n",
        "  \"\"\"\n",
        "  list_of_review_sentences = []\n",
        "  csv_file = open(csv_file_name)\n",
        "  read_csv = csv.reader(csv_file, delimiter=\",\")\n",
        "  \n",
        "  #skip header\n",
        "  next(read_csv)\n",
        "  for row in read_csv:\n",
        "    review_text = row[column]\n",
        "    list_of_review_sentences.append(review_text)\n",
        " \n",
        "  return  list_of_review_sentences\n",
        "\n",
        "def read_key_words(file):\n",
        "    \"\"\"Reads list of words in file, one keyword per line\"\"\"\n",
        "\n",
        "    return [line.rstrip('\\n') for line in open(file)]\n",
        "\n",
        "def check_indicators(sentence, word_list):\n",
        "    \"\"\"\n",
        "    function to detect the presence of argument keywords in a sentence\n",
        "    :param full sentence:\n",
        "    :return: True if sentence contains keyword\n",
        "    \"\"\"\n",
        "\n",
        "    for indicator in word_list:\n",
        "      if re.search(r\"\\b\" + re.escape(indicator.lower()) + r\"\\b\",sentence.lower()):\n",
        "        return 1\n",
        "    return 0\n",
        "\n",
        "\n",
        "def check_topic(sentence, string):\n",
        "    \"\"\"\n",
        "    function to detect the presence of topic keywords in a sentence\n",
        "    :param full sentence:\n",
        "    :return: True if sentence contains keyword\n",
        "    \"\"\"\n",
        "    if re.search(r\"\\b\" + re.escape(string.lower()) + r\"\\b\",sentence.lower()):\n",
        "      return 1\n",
        "    return 0\n",
        "\n",
        "def copy_list_elements(src_list, dest_list):\n",
        "  \"\"\"\n",
        "  function to copy elements of a list into an existing list\n",
        "  :param:  \n",
        "  :param:\n",
        "  :return: True if sentence contains keyword\n",
        "  \"\"\"\n",
        "  for element in src_list:\n",
        "    dest_list.append(element)\n",
        "\n",
        "def correct_punctuation(line_of_review_data,punctuation_char):\n",
        "  \"\"\"\n",
        "  function to add a space after every '.' and separate words containing '/' elements of a list into an existing list\n",
        "  :param review data to be corrected:  \n",
        "  :return: Corrected text data\n",
        "  \"\"\"\n",
        "  # add a space after a dot\n",
        "  look_for = rf\"\\{punctuation_char}(?!\\s|$)\"\n",
        "  replace_with=rf\"{punctuation_char} \"\n",
        "  # add a space before and after '/'\n",
        "  #rx2 = r'\\b[//:]\\b'\n",
        "  corrected_review_data = re.sub(look_for, replace_with, line_of_review_data)\n",
        "  #line_of_review_data = re.sub(rx2, \" // \", line_of_review_data)\n",
        "\n",
        "  return corrected_review_data\n",
        "\n",
        "def extract_arguments(doc):\n",
        "  argumentative_setences = []\n",
        "  claim_setences         = []\n",
        "  premise_setences       = []\n",
        "\n",
        "  #claim_counter = 0\n",
        "  #premise_counter = 0\n",
        "  \n",
        "  for review_text in docs:  \n",
        "    # clean up not well formated reviews  \n",
        "    review_text = correct_punctuation(review_text, \".\")\n",
        "    review_text = correct_punctuation(review_text, \"!\")\n",
        "    review_text = correct_punctuation(review_text, \"/\")\n",
        "    # this gives us a list of sentences\n",
        "    sent_text   = nltk.sent_tokenize(review_text) \n",
        "    # now loop over each sentence and tokenize it separately\n",
        "    for sentence in sent_text:\n",
        "      if check_indicators(sentence,claim_list) and check_indicators(sentence,premise_list):\n",
        "        argumentative_setences.append(sentence)\n",
        "        # print(sentence)\n",
        "      elif check_indicators(sentence,claim_list):\n",
        "        claim_setences.append(sentence)\n",
        "      elif check_indicators(sentence,premise_list):\n",
        "        premise_setences.append(sentence)\n",
        "  return argumentative_setences, claim_setences, premise_setences \n",
        "\n",
        "premise_list = read_key_words(PREMISE_FILE)\n",
        "claim_list = read_key_words(CLAIM_FILE)\n",
        "\n",
        "argumentative_setences = []\n",
        "claim_setences         = []\n",
        "premise_setences       = []\n",
        "argumentative_docs     = []\n",
        "\n",
        "docs = read_review_data(FILE,column=9)\n",
        "argumentative_setences, claim_setences, premise_setences = extract_arguments(docs)\n",
        "\n",
        "print(\"################ Arguments: \" + str(len(argumentative_setences)))\n",
        "print(\"################ Claims: \"  + str(len(claim_setences)))\n",
        "print(\"################ Premise: \" + str(len(premise_setences)))\n",
        "\n",
        "\n",
        "copy_list_elements(argumentative_setences,argumentative_docs)\n",
        "'''we are keeping this information in order to extract claims and premises potentially spread over multiple sentences.'''\n",
        "copy_list_elements(claim_setences,argumentative_docs)\n",
        "copy_list_elements(premise_setences,argumentative_docs)\n"
      ],
      "execution_count": 128,
      "outputs": [
        {
          "output_type": "display_data",
          "data": {
            "text/html": [
              "\n",
              "  <style>\n",
              "    pre {\n",
              "        white-space: pre-wrap;\n",
              "    }\n",
              "  </style>\n",
              "  "
            ],
            "text/plain": [
              "<IPython.core.display.HTML object>"
            ]
          },
          "metadata": {
            "tags": []
          }
        },
        {
          "output_type": "display_data",
          "data": {
            "text/html": [
              "\n",
              "  <style>\n",
              "    pre {\n",
              "        white-space: pre-wrap;\n",
              "    }\n",
              "  </style>\n",
              "  "
            ],
            "text/plain": [
              "<IPython.core.display.HTML object>"
            ]
          },
          "metadata": {
            "tags": []
          }
        },
        {
          "output_type": "display_data",
          "data": {
            "text/html": [
              "\n",
              "  <style>\n",
              "    pre {\n",
              "        white-space: pre-wrap;\n",
              "    }\n",
              "  </style>\n",
              "  "
            ],
            "text/plain": [
              "<IPython.core.display.HTML object>"
            ]
          },
          "metadata": {
            "tags": []
          }
        },
        {
          "output_type": "display_data",
          "data": {
            "text/html": [
              "\n",
              "  <style>\n",
              "    pre {\n",
              "        white-space: pre-wrap;\n",
              "    }\n",
              "  </style>\n",
              "  "
            ],
            "text/plain": [
              "<IPython.core.display.HTML object>"
            ]
          },
          "metadata": {
            "tags": []
          }
        },
        {
          "output_type": "display_data",
          "data": {
            "text/html": [
              "\n",
              "  <style>\n",
              "    pre {\n",
              "        white-space: pre-wrap;\n",
              "    }\n",
              "  </style>\n",
              "  "
            ],
            "text/plain": [
              "<IPython.core.display.HTML object>"
            ]
          },
          "metadata": {
            "tags": []
          }
        },
        {
          "output_type": "display_data",
          "data": {
            "text/html": [
              "\n",
              "  <style>\n",
              "    pre {\n",
              "        white-space: pre-wrap;\n",
              "    }\n",
              "  </style>\n",
              "  "
            ],
            "text/plain": [
              "<IPython.core.display.HTML object>"
            ]
          },
          "metadata": {
            "tags": []
          }
        },
        {
          "output_type": "stream",
          "text": [
            "[nltk_data] Downloading package punkt to /root/nltk_data...\n",
            "[nltk_data]   Package punkt is already up-to-date!\n",
            "################ Arguments: 293\n",
            "################ Claims: 401\n",
            "################ Premise: 1905\n"
          ],
          "name": "stdout"
        }
      ]
    },
    {
      "cell_type": "markdown",
      "metadata": {
        "id": "cqq2VFgTR94k"
      },
      "source": [
        "Lemmatizsation in an attempt to improve cosine vectors similarity <br>"
      ]
    },
    {
      "cell_type": "code",
      "metadata": {
        "colab": {
          "base_uri": "https://localhost:8080/",
          "height": 119
        },
        "id": "vetJWUUKq5NR",
        "outputId": "a14a78b8-42f5-4d3a-8e1d-4584a364eccc"
      },
      "source": [
        "from nltk.stem import PorterStemmer \n",
        "from nltk.stem import WordNetLemmatizer\n",
        "from nltk.corpus import wordnet\n",
        "\n",
        "nltk.download('averaged_perceptron_tagger')\n",
        "nltk.download('wordnet')\n",
        "lemmatizer = WordNetLemmatizer()\n",
        "ps = PorterStemmer()\n",
        "\n",
        "def nltk2wn_tag(nltk_tag):\n",
        "  \"\"\"\n",
        "  function to convert nltk pos tag into wordnet tag which can feed into WordNetLemmatizer\n",
        "  :param nltk tag:\n",
        "  :return: the corresponding wordnet tag\n",
        "  \"\"\"\n",
        "  if nltk_tag.startswith('J'):\n",
        "    return wordnet.ADJ\n",
        "  elif nltk_tag.startswith('V'):\n",
        "    return wordnet.VERB\n",
        "  elif nltk_tag.startswith('N'):\n",
        "    return wordnet.NOUN\n",
        "  elif nltk_tag.startswith('R'):\n",
        "    return wordnet.ADV\n",
        "  else:                    \n",
        "    return None\n",
        "\n",
        "def lemmatize_sentence(sentence):\n",
        "  \"\"\"\n",
        "  function to convert all words in a sentence to there corresponding lemmatized version\n",
        "  :param sentence:\n",
        "  :return: the lemmatized sentence\n",
        "  \"\"\"\n",
        "  nltk_tagged = nltk.pos_tag(nltk.word_tokenize(sentence)) \n",
        "  wn_tagged = map(lambda x: (x[0], nltk2wn_tag(x[1])), nltk_tagged)\n",
        "  res_words = []\n",
        "  for word, tag in wn_tagged:\n",
        "    if tag is None:                        \n",
        "      res_words.append(word)\n",
        "    else:\n",
        "      res_words.append(lemmatizer.lemmatize(word, tag))\n",
        "\n",
        "  return \" \".join(res_words)\n",
        "'''\n",
        "def stemm_sentence(sentence):\n",
        "  res_words = []\n",
        "  for word in sentence:\n",
        "        #print(ps.stem(word))\n",
        "        res_words.append(ps.stem(word))\n",
        "  return \"\".join(res_words)\n",
        "'''\n",
        "lemmatize_docs = []\n",
        "for sentence in argumentative_docs:\n",
        "  lemmatize_docs.append(lemmatize_sentence(sentence))"
      ],
      "execution_count": 129,
      "outputs": [
        {
          "output_type": "display_data",
          "data": {
            "text/html": [
              "\n",
              "  <style>\n",
              "    pre {\n",
              "        white-space: pre-wrap;\n",
              "    }\n",
              "  </style>\n",
              "  "
            ],
            "text/plain": [
              "<IPython.core.display.HTML object>"
            ]
          },
          "metadata": {
            "tags": []
          }
        },
        {
          "output_type": "display_data",
          "data": {
            "text/html": [
              "\n",
              "  <style>\n",
              "    pre {\n",
              "        white-space: pre-wrap;\n",
              "    }\n",
              "  </style>\n",
              "  "
            ],
            "text/plain": [
              "<IPython.core.display.HTML object>"
            ]
          },
          "metadata": {
            "tags": []
          }
        },
        {
          "output_type": "display_data",
          "data": {
            "text/html": [
              "\n",
              "  <style>\n",
              "    pre {\n",
              "        white-space: pre-wrap;\n",
              "    }\n",
              "  </style>\n",
              "  "
            ],
            "text/plain": [
              "<IPython.core.display.HTML object>"
            ]
          },
          "metadata": {
            "tags": []
          }
        },
        {
          "output_type": "display_data",
          "data": {
            "text/html": [
              "\n",
              "  <style>\n",
              "    pre {\n",
              "        white-space: pre-wrap;\n",
              "    }\n",
              "  </style>\n",
              "  "
            ],
            "text/plain": [
              "<IPython.core.display.HTML object>"
            ]
          },
          "metadata": {
            "tags": []
          }
        },
        {
          "output_type": "display_data",
          "data": {
            "text/html": [
              "\n",
              "  <style>\n",
              "    pre {\n",
              "        white-space: pre-wrap;\n",
              "    }\n",
              "  </style>\n",
              "  "
            ],
            "text/plain": [
              "<IPython.core.display.HTML object>"
            ]
          },
          "metadata": {
            "tags": []
          }
        },
        {
          "output_type": "display_data",
          "data": {
            "text/html": [
              "\n",
              "  <style>\n",
              "    pre {\n",
              "        white-space: pre-wrap;\n",
              "    }\n",
              "  </style>\n",
              "  "
            ],
            "text/plain": [
              "<IPython.core.display.HTML object>"
            ]
          },
          "metadata": {
            "tags": []
          }
        },
        {
          "output_type": "stream",
          "text": [
            "[nltk_data] Downloading package averaged_perceptron_tagger to\n",
            "[nltk_data]     /root/nltk_data...\n",
            "[nltk_data]   Package averaged_perceptron_tagger is already up-to-\n",
            "[nltk_data]       date!\n",
            "[nltk_data] Downloading package wordnet to /root/nltk_data...\n",
            "[nltk_data]   Package wordnet is already up-to-date!\n"
          ],
          "name": "stdout"
        }
      ]
    },
    {
      "cell_type": "markdown",
      "metadata": {
        "id": "Ryrqa7UbZbYU"
      },
      "source": [
        "Creating BERT Embeddings using `SentenceTransformer` <br>\n",
        "[We are using pre-trained model](https://docs.google.com/spreadsheets/d/14QplCdTCDwEmTqrn1LH4yrbKvdogK4oQvYO1K1aPR5M/edit#gid=0)\n",
        "  'paraphrase-distilroberta-base-v1'\n",
        "\n"
      ]
    },
    {
      "cell_type": "code",
      "metadata": {
        "colab": {
          "base_uri": "https://localhost:8080/",
          "height": 66,
          "referenced_widgets": [
            "df02396cc17a4925ade98a51978ab8ef",
            "4115600932df4d14acb586a847723924",
            "c0f774af8d034aab87e972d0de3ee94b",
            "cfa36c79ebce487f8c72e45e09e5dae5",
            "e9b9061d4d7b481c9f797405881d9969",
            "094c4aed315e4091b0bf5dfb5a4aa0b4",
            "32a761b92c45491fa7bfe698f9b3a6b5",
            "ec42406df81e4197855c04b3f116d19b"
          ]
        },
        "id": "ESVPaAGUq5i9",
        "outputId": "245a0b27-325c-4c03-928f-a5c12073717f"
      },
      "source": [
        "from sentence_transformers import SentenceTransformer\n",
        "model = SentenceTransformer('paraphrase-distilroberta-base-v1')\n",
        "embeddings = model.encode(lemmatize_docs, show_progress_bar=True)"
      ],
      "execution_count": 138,
      "outputs": [
        {
          "output_type": "display_data",
          "data": {
            "text/html": [
              "\n",
              "  <style>\n",
              "    pre {\n",
              "        white-space: pre-wrap;\n",
              "    }\n",
              "  </style>\n",
              "  "
            ],
            "text/plain": [
              "<IPython.core.display.HTML object>"
            ]
          },
          "metadata": {
            "tags": []
          }
        },
        {
          "output_type": "display_data",
          "data": {
            "text/html": [
              "\n",
              "  <style>\n",
              "    pre {\n",
              "        white-space: pre-wrap;\n",
              "    }\n",
              "  </style>\n",
              "  "
            ],
            "text/plain": [
              "<IPython.core.display.HTML object>"
            ]
          },
          "metadata": {
            "tags": []
          }
        },
        {
          "output_type": "display_data",
          "data": {
            "text/html": [
              "\n",
              "  <style>\n",
              "    pre {\n",
              "        white-space: pre-wrap;\n",
              "    }\n",
              "  </style>\n",
              "  "
            ],
            "text/plain": [
              "<IPython.core.display.HTML object>"
            ]
          },
          "metadata": {
            "tags": []
          }
        },
        {
          "output_type": "display_data",
          "data": {
            "text/html": [
              "\n",
              "  <style>\n",
              "    pre {\n",
              "        white-space: pre-wrap;\n",
              "    }\n",
              "  </style>\n",
              "  "
            ],
            "text/plain": [
              "<IPython.core.display.HTML object>"
            ]
          },
          "metadata": {
            "tags": []
          }
        },
        {
          "output_type": "display_data",
          "data": {
            "text/html": [
              "\n",
              "  <style>\n",
              "    pre {\n",
              "        white-space: pre-wrap;\n",
              "    }\n",
              "  </style>\n",
              "  "
            ],
            "text/plain": [
              "<IPython.core.display.HTML object>"
            ]
          },
          "metadata": {
            "tags": []
          }
        },
        {
          "output_type": "display_data",
          "data": {
            "text/html": [
              "\n",
              "  <style>\n",
              "    pre {\n",
              "        white-space: pre-wrap;\n",
              "    }\n",
              "  </style>\n",
              "  "
            ],
            "text/plain": [
              "<IPython.core.display.HTML object>"
            ]
          },
          "metadata": {
            "tags": []
          }
        },
        {
          "output_type": "display_data",
          "data": {
            "application/vnd.jupyter.widget-view+json": {
              "model_id": "df02396cc17a4925ade98a51978ab8ef",
              "version_minor": 0,
              "version_major": 2
            },
            "text/plain": [
              "HBox(children=(FloatProgress(value=0.0, description='Batches', max=82.0, style=ProgressStyle(description_width…"
            ]
          },
          "metadata": {
            "tags": []
          }
        },
        {
          "output_type": "stream",
          "text": [
            "\n"
          ],
          "name": "stdout"
        }
      ]
    },
    {
      "cell_type": "markdown",
      "metadata": {
        "id": "ZbZGn1EjRxW3"
      },
      "source": [
        "The following functions identifies cluster in our BERT Embeddgins and extracts topics from the cluster using TDF IDF<br>\n",
        "<b>WIP add review specific stop words</b>"
      ]
    },
    {
      "cell_type": "code",
      "metadata": {
        "id": "sV5z9cjWjUHz",
        "colab": {
          "base_uri": "https://localhost:8080/",
          "height": 359
        },
        "outputId": "7f58a5f3-e0d5-4d95-e5c0-09d70419ed3e"
      },
      "source": [
        "#import umap\n",
        "import hdbscan\n",
        "import pandas as pd\n",
        "import numpy as np\n",
        "from sklearn.feature_extraction.text import TfidfTransformer\n",
        "from sklearn.feature_extraction.text import CountVectorizer\n",
        "from sklearn.feature_extraction.text import TfidfVectorizer\n",
        "from sklearn.feature_extraction import text \n",
        "'''\n",
        "umap_embeddings = umap.UMAP(n_neighbors=15, n_components=5,metric='cosine').fit_transform(embeddings)\n",
        "\n",
        "cluster = hdbscan.HDBSCAN(min_cluster_size=10,\n",
        "                          metric='euclidean',                      \n",
        "                          cluster_selection_method='eom').fit(umap_embeddings)\n",
        "'''\n",
        "cluster = hdbscan.HDBSCAN(algorithm='best', alpha=1.0, approx_min_span_tree=True,\n",
        "    gen_min_span_tree=False, leaf_size=40,\n",
        "    metric='manhattan', min_cluster_size=3, min_samples=None, p=None).fit(embeddings)\n",
        "\n",
        "def label_data_frame(docs): \n",
        "  \"\"\"\n",
        "  function to convert a list of review text into a panda data frame\n",
        "  :param: docs a list of review text\n",
        "  :return: docs data frame docs_per_topic\n",
        "  \"\"\"                 \n",
        "  docs_df           = pd.DataFrame(docs, columns=[\"Doc\"])\n",
        "  docs_df['Topic']  = cluster.labels_\n",
        "  docs_df['Doc_ID'] = range(len(docs_df))\n",
        "  docs_per_topic    = docs_df.groupby(['Topic'], as_index = False).agg({'Doc': ' '.join})\n",
        "  # print(docs_per_topic)\n",
        "  # print(docs_per_topic.Topic.values)\n",
        "  return docs_df, docs_per_topic\n",
        "\n",
        "def c_tf_idf(documents, m, ngram_range=(1, 1)):\n",
        "  \"\"\"\n",
        "  function to convert a list of review text into a panda data frame\n",
        "  :param: docs a list of review text\n",
        "  :return: docs data frame docs_per_topic\n",
        "  \"\"\" \n",
        "  #additional stop words \n",
        "  stop_words  = text.ENGLISH_STOP_WORDS.union(\n",
        "      [\"mandatory\",\"reasonable\",\"excellent\",\n",
        "       \"wonderful\",\"pretty\",\"family\",\"fantastic\",\n",
        "       \"great\",\"happy\",\"good\",\"order\",\"delivery\",\n",
        "       \"shipping\",\"buy\",\"husband\",\"wife\", \"search\",\n",
        "       \"mainly\",\"recommended\",\"highly\",\"overly\",\n",
        "       \"come\",\"christmas\",\"andi\",\"love\",\"brother\",\"sister\",\n",
        "       \"son\",\"daughter\",\"birthday\",\"gift\",\"xmas\",\"got\",\"nephew\"\n",
        "       \"child\",\"nephew\",\"niece\"])\n",
        "  \n",
        "\n",
        "  #create a CountVectorizer to count the number of words (term frequency), limit vocabulary size, apply stop words \n",
        "  counter     = CountVectorizer(ngram_range=ngram_range, stop_words=stop_words).fit(documents)\n",
        "  word_count_vector = counter.transform(documents)\n",
        "  \n",
        "  # settings that you use for count vectorizer will go here \n",
        "  tfidf_vectorizer=TfidfVectorizer(ngram_range=ngram_range, stop_words=stop_words,use_idf=True) \n",
        " \n",
        "  # just send in all your docs here \n",
        "  tfidf_vectorizer_vectors=tfidf_vectorizer.fit_transform(documents)\n",
        " \n",
        "  # just send in all your docs here\n",
        "  fitted_vectorizer=tfidf_vectorizer.fit(docs)\n",
        "  tfidf_vectorizer_vectors=fitted_vectorizer.transform(docs)\n",
        "  \n",
        "  transformer = counter.transform(documents).toarray()\n",
        "\n",
        "  w = transformer.sum(axis=1)\n",
        "  tf = np.divide(transformer.T, w)\n",
        "  sum_transformer = transformer.sum(axis=0)\n",
        "  idf = np.log(np.divide(m, sum_transformer)).reshape(-1, 1)\n",
        "  tf_idf = np.multiply(tf, idf)\n",
        "\n",
        " # print(tf_idf)\n",
        " # print(counter)\n",
        "#  print(tfidf_vectorizer)\n",
        " # print(tfidf_vectorizer_vectors.)\n",
        "\n",
        "  return tf_idf, counter\n",
        "  #return tfidf_vectorizer_vectors, tfidf_vectorizer\n",
        "\n",
        "def extract_top_n_words_per_topic(tf_idf, count, docs_per_topic, n=20):\n",
        "  words = count.get_feature_names()\n",
        "  labels = list(docs_per_topic.Topic)\n",
        "  tf_idf_transposed = tf_idf.T\n",
        "  indices = tf_idf_transposed.argsort()[:, -n:]\n",
        "  top_n_words = {\n",
        "      label: [(words[j], tf_idf_transposed[i][j]) for j in indices[i]][::-1] for i, label in enumerate(labels)\n",
        "  }\n",
        "  return top_n_words\n",
        "\n",
        "def extract_topic_sizes(df):\n",
        "  topic_sizes = (df.groupby(['Topic'])\n",
        "    .Doc\n",
        "    .count()\n",
        "    .reset_index()\n",
        "    .rename({\"Topic\": \"Topic\", \"Doc\": \"Size\"}, axis='columns')\n",
        "    .sort_values(\"Size\", ascending=False))\n",
        "  return topic_sizes\n",
        "  \n",
        "docs_df, docs_per_topic = label_data_frame(lemmatize_docs)\n",
        "tf_idf, count = c_tf_idf(docs_per_topic.Doc.values, m=len(docs))\n",
        "\n",
        "top_n_words = extract_top_n_words_per_topic(tf_idf, count, docs_per_topic, n=10)\n",
        "topic_sizes = extract_topic_sizes(docs_df); \n",
        "topic_sizes.head(10)\n",
        "#topic_sizes.head(20)"
      ],
      "execution_count": 166,
      "outputs": [
        {
          "output_type": "display_data",
          "data": {
            "text/html": [
              "\n",
              "  <style>\n",
              "    pre {\n",
              "        white-space: pre-wrap;\n",
              "    }\n",
              "  </style>\n",
              "  "
            ],
            "text/plain": [
              "<IPython.core.display.HTML object>"
            ]
          },
          "metadata": {
            "tags": []
          }
        },
        {
          "output_type": "display_data",
          "data": {
            "text/html": [
              "\n",
              "  <style>\n",
              "    pre {\n",
              "        white-space: pre-wrap;\n",
              "    }\n",
              "  </style>\n",
              "  "
            ],
            "text/plain": [
              "<IPython.core.display.HTML object>"
            ]
          },
          "metadata": {
            "tags": []
          }
        },
        {
          "output_type": "display_data",
          "data": {
            "text/html": [
              "\n",
              "  <style>\n",
              "    pre {\n",
              "        white-space: pre-wrap;\n",
              "    }\n",
              "  </style>\n",
              "  "
            ],
            "text/plain": [
              "<IPython.core.display.HTML object>"
            ]
          },
          "metadata": {
            "tags": []
          }
        },
        {
          "output_type": "display_data",
          "data": {
            "text/html": [
              "\n",
              "  <style>\n",
              "    pre {\n",
              "        white-space: pre-wrap;\n",
              "    }\n",
              "  </style>\n",
              "  "
            ],
            "text/plain": [
              "<IPython.core.display.HTML object>"
            ]
          },
          "metadata": {
            "tags": []
          }
        },
        {
          "output_type": "display_data",
          "data": {
            "text/html": [
              "\n",
              "  <style>\n",
              "    pre {\n",
              "        white-space: pre-wrap;\n",
              "    }\n",
              "  </style>\n",
              "  "
            ],
            "text/plain": [
              "<IPython.core.display.HTML object>"
            ]
          },
          "metadata": {
            "tags": []
          }
        },
        {
          "output_type": "display_data",
          "data": {
            "text/html": [
              "\n",
              "  <style>\n",
              "    pre {\n",
              "        white-space: pre-wrap;\n",
              "    }\n",
              "  </style>\n",
              "  "
            ],
            "text/plain": [
              "<IPython.core.display.HTML object>"
            ]
          },
          "metadata": {
            "tags": []
          }
        },
        {
          "output_type": "execute_result",
          "data": {
            "text/html": [
              "<div>\n",
              "<style scoped>\n",
              "    .dataframe tbody tr th:only-of-type {\n",
              "        vertical-align: middle;\n",
              "    }\n",
              "\n",
              "    .dataframe tbody tr th {\n",
              "        vertical-align: top;\n",
              "    }\n",
              "\n",
              "    .dataframe thead th {\n",
              "        text-align: right;\n",
              "    }\n",
              "</style>\n",
              "<table border=\"1\" class=\"dataframe\">\n",
              "  <thead>\n",
              "    <tr style=\"text-align: right;\">\n",
              "      <th></th>\n",
              "      <th>Topic</th>\n",
              "      <th>Size</th>\n",
              "    </tr>\n",
              "  </thead>\n",
              "  <tbody>\n",
              "    <tr>\n",
              "      <th>0</th>\n",
              "      <td>-1</td>\n",
              "      <td>2305</td>\n",
              "    </tr>\n",
              "    <tr>\n",
              "      <th>29</th>\n",
              "      <td>28</td>\n",
              "      <td>20</td>\n",
              "    </tr>\n",
              "    <tr>\n",
              "      <th>31</th>\n",
              "      <td>30</td>\n",
              "      <td>18</td>\n",
              "    </tr>\n",
              "    <tr>\n",
              "      <th>13</th>\n",
              "      <td>12</td>\n",
              "      <td>12</td>\n",
              "    </tr>\n",
              "    <tr>\n",
              "      <th>42</th>\n",
              "      <td>41</td>\n",
              "      <td>12</td>\n",
              "    </tr>\n",
              "    <tr>\n",
              "      <th>35</th>\n",
              "      <td>34</td>\n",
              "      <td>11</td>\n",
              "    </tr>\n",
              "    <tr>\n",
              "      <th>37</th>\n",
              "      <td>36</td>\n",
              "      <td>10</td>\n",
              "    </tr>\n",
              "    <tr>\n",
              "      <th>32</th>\n",
              "      <td>31</td>\n",
              "      <td>10</td>\n",
              "    </tr>\n",
              "    <tr>\n",
              "      <th>20</th>\n",
              "      <td>19</td>\n",
              "      <td>9</td>\n",
              "    </tr>\n",
              "    <tr>\n",
              "      <th>53</th>\n",
              "      <td>52</td>\n",
              "      <td>9</td>\n",
              "    </tr>\n",
              "  </tbody>\n",
              "</table>\n",
              "</div>"
            ],
            "text/plain": [
              "    Topic  Size\n",
              "0      -1  2305\n",
              "29     28    20\n",
              "31     30    18\n",
              "13     12    12\n",
              "42     41    12\n",
              "35     34    11\n",
              "37     36    10\n",
              "32     31    10\n",
              "20     19     9\n",
              "53     52     9"
            ]
          },
          "metadata": {
            "tags": []
          },
          "execution_count": 166
        }
      ]
    },
    {
      "cell_type": "code",
      "metadata": {
        "id": "9NJ_T4gBjyDN",
        "colab": {
          "base_uri": "https://localhost:8080/",
          "height": 187
        },
        "outputId": "47e0fbea-529c-49df-8f7e-84aed2bed319"
      },
      "source": [
        "\n",
        "top_n_words[31]"
      ],
      "execution_count": 177,
      "outputs": [
        {
          "output_type": "display_data",
          "data": {
            "text/html": [
              "\n",
              "  <style>\n",
              "    pre {\n",
              "        white-space: pre-wrap;\n",
              "    }\n",
              "  </style>\n",
              "  "
            ],
            "text/plain": [
              "<IPython.core.display.HTML object>"
            ]
          },
          "metadata": {
            "tags": []
          }
        },
        {
          "output_type": "display_data",
          "data": {
            "text/html": [
              "\n",
              "  <style>\n",
              "    pre {\n",
              "        white-space: pre-wrap;\n",
              "    }\n",
              "  </style>\n",
              "  "
            ],
            "text/plain": [
              "<IPython.core.display.HTML object>"
            ]
          },
          "metadata": {
            "tags": []
          }
        },
        {
          "output_type": "display_data",
          "data": {
            "text/html": [
              "\n",
              "  <style>\n",
              "    pre {\n",
              "        white-space: pre-wrap;\n",
              "    }\n",
              "  </style>\n",
              "  "
            ],
            "text/plain": [
              "<IPython.core.display.HTML object>"
            ]
          },
          "metadata": {
            "tags": []
          }
        },
        {
          "output_type": "display_data",
          "data": {
            "text/html": [
              "\n",
              "  <style>\n",
              "    pre {\n",
              "        white-space: pre-wrap;\n",
              "    }\n",
              "  </style>\n",
              "  "
            ],
            "text/plain": [
              "<IPython.core.display.HTML object>"
            ]
          },
          "metadata": {
            "tags": []
          }
        },
        {
          "output_type": "display_data",
          "data": {
            "text/html": [
              "\n",
              "  <style>\n",
              "    pre {\n",
              "        white-space: pre-wrap;\n",
              "    }\n",
              "  </style>\n",
              "  "
            ],
            "text/plain": [
              "<IPython.core.display.HTML object>"
            ]
          },
          "metadata": {
            "tags": []
          }
        },
        {
          "output_type": "display_data",
          "data": {
            "text/html": [
              "\n",
              "  <style>\n",
              "    pre {\n",
              "        white-space: pre-wrap;\n",
              "    }\n",
              "  </style>\n",
              "  "
            ],
            "text/plain": [
              "<IPython.core.display.HTML object>"
            ]
          },
          "metadata": {
            "tags": []
          }
        },
        {
          "output_type": "execute_result",
          "data": {
            "text/plain": [
              "[('connect', 0.2603318083320586),\n",
              " ('phone', 0.18729910539688174),\n",
              " ('wifi', 0.17825157348103216),\n",
              " ('port', 0.17587210905913503),\n",
              " ('allow', 0.1383907181647809),\n",
              " ('mode', 0.11071257453182472),\n",
              " ('usb', 0.08951806379963242),\n",
              " ('telly', 0.0885895589015473),\n",
              " ('remotely', 0.08325449168959777),\n",
              " ('video', 0.08024090281692114)]"
            ]
          },
          "metadata": {
            "tags": []
          },
          "execution_count": 177
        }
      ]
    },
    {
      "cell_type": "code",
      "metadata": {
        "id": "0xSrkis5o3kl",
        "colab": {
          "base_uri": "https://localhost:8080/",
          "height": 221
        },
        "outputId": "397e5d45-0527-4c92-93e2-2f9ba1779fcb"
      },
      "source": [
        "#@title Select a Topic/feature\n",
        "#@markdown Tye here a word from above topic list\n",
        "string_type = 'wifi'  #@param {type: \"string\"}\n",
        "#@markdown ---\n",
        "\n",
        "def get_topical_sentences(topic, sentences):\n",
        "  for sentence in sentences:\n",
        "    if check_topic(sentence,topic):\n",
        "      print(sentence)\n",
        "\n",
        "get_topical_sentences(string_type,argumentative_setences)\n",
        "\n",
        "\n"
      ],
      "execution_count": 162,
      "outputs": [
        {
          "output_type": "display_data",
          "data": {
            "text/html": [
              "\n",
              "  <style>\n",
              "    pre {\n",
              "        white-space: pre-wrap;\n",
              "    }\n",
              "  </style>\n",
              "  "
            ],
            "text/plain": [
              "<IPython.core.display.HTML object>"
            ]
          },
          "metadata": {
            "tags": []
          }
        },
        {
          "output_type": "display_data",
          "data": {
            "text/html": [
              "\n",
              "  <style>\n",
              "    pre {\n",
              "        white-space: pre-wrap;\n",
              "    }\n",
              "  </style>\n",
              "  "
            ],
            "text/plain": [
              "<IPython.core.display.HTML object>"
            ]
          },
          "metadata": {
            "tags": []
          }
        },
        {
          "output_type": "display_data",
          "data": {
            "text/html": [
              "\n",
              "  <style>\n",
              "    pre {\n",
              "        white-space: pre-wrap;\n",
              "    }\n",
              "  </style>\n",
              "  "
            ],
            "text/plain": [
              "<IPython.core.display.HTML object>"
            ]
          },
          "metadata": {
            "tags": []
          }
        },
        {
          "output_type": "display_data",
          "data": {
            "text/html": [
              "\n",
              "  <style>\n",
              "    pre {\n",
              "        white-space: pre-wrap;\n",
              "    }\n",
              "  </style>\n",
              "  "
            ],
            "text/plain": [
              "<IPython.core.display.HTML object>"
            ]
          },
          "metadata": {
            "tags": []
          }
        },
        {
          "output_type": "display_data",
          "data": {
            "text/html": [
              "\n",
              "  <style>\n",
              "    pre {\n",
              "        white-space: pre-wrap;\n",
              "    }\n",
              "  </style>\n",
              "  "
            ],
            "text/plain": [
              "<IPython.core.display.HTML object>"
            ]
          },
          "metadata": {
            "tags": []
          }
        },
        {
          "output_type": "display_data",
          "data": {
            "text/html": [
              "\n",
              "  <style>\n",
              "    pre {\n",
              "        white-space: pre-wrap;\n",
              "    }\n",
              "  </style>\n",
              "  "
            ],
            "text/plain": [
              "<IPython.core.display.HTML object>"
            ]
          },
          "metadata": {
            "tags": []
          }
        },
        {
          "output_type": "stream",
          "text": [
            "WiFi requires a dedicated link to mobile and slow at transfer so unless you use it as a remote webcam to a phone it's a bit pointless.\n",
            "I have used cheaper versions of this type of camera and can honestly say that this Crosstour 4K 20MP Action Camera WiFi EIS Waterproof 40M with External Microphone and Remote Control is extremely good value and as good in my opinion as many much more expensive products on the market.\n",
            "However my favourite part about this camera is once connected to wifi you can take pictures/ videos from your phone, as you can see the cameras vision whilst connected to your phone.\n",
            "It came with spare batteries , external microphone , and every type of mount you can imagine , the wifi was simple to connect to , however i chose to use usb for ease for myself.\n",
            "I also only expected that the companion app would work if both your phone and the camera were connected to an already existing WiFi network but the camera actually broadcasts it own WiFi so no matter where you are you can connect it up to your phone to view your photos/ videos.\n",
            "Pros:- compact- lightweight- heck lots of well designed and built accessories- decent image quality- decent video quality- surprisingly long lasting batteries- spare battery in the kit- microphone in the kit- mic jack (works as well with wireless mic kit)- decent image quality in the waterproof housing- easy and intuitive menu (mostly)- wifi connects fast- wifi reaction fast enough- well packed - I mean REALLY well.\n"
          ],
          "name": "stdout"
        }
      ]
    },
    {
      "cell_type": "markdown",
      "metadata": {
        "id": "kms4R9szaNAr"
      },
      "source": [
        ""
      ]
    }
  ]
}